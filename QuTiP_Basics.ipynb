{
  "nbformat": 4,
  "nbformat_minor": 0,
  "metadata": {
    "colab": {
      "private_outputs": true,
      "provenance": [],
      "authorship_tag": "ABX9TyNuXbGNlAjOGqDDps16NbUL",
      "include_colab_link": true
    },
    "kernelspec": {
      "name": "python3",
      "display_name": "Python 3"
    },
    "language_info": {
      "name": "python"
    }
  },
  "cells": [
    {
      "cell_type": "markdown",
      "metadata": {
        "id": "view-in-github",
        "colab_type": "text"
      },
      "source": [
        "<a href=\"https://colab.research.google.com/github/Kunal02880/Qunatum-phenomeno-/blob/main/Qutip_understanding.ipynb\" target=\"_parent\"><img src=\"https://colab.research.google.com/assets/colab-badge.svg\" alt=\"Open In Colab\"/></a>"
      ]
    },
    {
      "cell_type": "code",
      "execution_count": null,
      "metadata": {
        "id": "foFPfsAh8qWT"
      },
      "outputs": [],
      "source": [
        "!pip install qutip\n",
        "import numpy as np\n",
        "import matplotlib.pyplot as plt\n",
        "from qutip import *"
      ]
    },
    {
      "cell_type": "code",
      "source": [
        "vac = basis(2,0)\n",
        "print(vac)\n",
        "c = create(2)\n",
        "excited = c*vac\n",
        "print(excited)"
      ],
      "metadata": {
        "id": "B58cFZtH81ff"
      },
      "execution_count": null,
      "outputs": []
    },
    {
      "cell_type": "code",
      "source": [
        "spin = basis(2,1)\n",
        "print(spin)\n",
        "r = sigmap()\n",
        "rised = r*spin\n",
        "l = sigmam()\n",
        "lower = l*spin\n",
        "print(rised)\n",
        "print(lower)"
      ],
      "metadata": {
        "id": "F-pU3qHx9fNY"
      },
      "execution_count": null,
      "outputs": []
    },
    {
      "cell_type": "code",
      "source": [
        "vector0 = basis(5,0)\n",
        "vector1 = basis(5,1)\n",
        "\n",
        "N = num(5)\n",
        "\n",
        "print(expect(N,vector0))\n",
        "print(expect(N,vector1))"
      ],
      "metadata": {
        "id": "9e-LEHVY-Lcf"
      },
      "execution_count": null,
      "outputs": []
    },
    {
      "cell_type": "code",
      "source": [
        "X = sigmax()\n",
        "\n",
        "S = spre(X)*spost(X.dag())\n",
        "print(S)"
      ],
      "metadata": {
        "id": "Tze68PgliFYy"
      },
      "execution_count": null,
      "outputs": []
    },
    {
      "cell_type": "code",
      "source": [
        "N= 5\n",
        "omaga_a = 1\n",
        "omaga_c = 1\n",
        "g = 0.01\n",
        "a = tensor(identity(2),destroy(N))\n",
        "sm = tensor(destroy(2),identity(N))\n",
        "sz = tensor(sigmaz(),identity(2))\n",
        "sx = tensor(sigmax(),identity(2))\n",
        "\n",
        "print(a.dims)\n",
        "print(sm.dims)\n",
        "#print(sz.dim())\n",
        "#print(sx.dim())\n"
      ],
      "metadata": {
        "id": "Dbj4t4GLZUra"
      },
      "execution_count": null,
      "outputs": []
    },
    {
      "cell_type": "code",
      "source": [
        "\n",
        "H = (0.5*omaga_a*sz+omaga_c*a.dag()*a+g(a.dag()*sm+a*sm.dag()))\n",
        "ps0= tensor(basis(2,1),basis(N,0))\n",
        "time = np.linspace(0,10,100)\n",
        "result = mesolve(H,ps0,tlist=time,e_ops=[a.dag()*a,sm.dag()*sm])\n",
        "\n",
        "photon_number = result.expect[0]\n",
        "atom_excited = result.expect[1]\n"
      ],
      "metadata": {
        "id": "rMXXKFlc7O-H"
      },
      "execution_count": null,
      "outputs": []
    },
    {
      "cell_type": "code",
      "source": [
        "N = 10  # Number of Fock states for the cavity mode (photon states)\n",
        "omega_a = 1.0  # Atomic energy splitting\n",
        "omega_c = 1.25  # Cavity mode frequency\n",
        "g = 0.05  # Atom-cavity coupling strength\n",
        "\n",
        "a = tensor(identity(2), destroy(N))\n",
        "\n",
        "sm = tensor(destroy(2), identity(N))\n",
        "\n",
        "sz = tensor(sigmaz(), identity(N))\n",
        "\n",
        "H = (\n",
        "    0.5 * omega_a * sz\n",
        "    + omega_c * a.dag() * a\n",
        "    + g * (a.dag() * sm + a * sm.dag())\n",
        ")\n",
        "\n",
        "from qutip import basis, tensor, destroy, sigmaz, mesolve\n",
        "\n",
        "# Initial state: Atom in excited state, cavity in vacuum state\n",
        "psi0 = tensor(basis(2, 1), basis(N, 0))\n",
        "\n",
        "# Time evolution\n",
        "times = np.linspace(0, 50, 100)\n",
        "result = mesolve(H, psi0, tlist=times, e_ops=[a.dag() * a, sm.dag() * sm])\n",
        "\n",
        "# Extract results\n",
        "photon_number = result.expect[0]  # Cavity photon population\n",
        "atom_excited = result.expect[1]   # Atom excited state population\n",
        "\n",
        "# Plot dynamics\n",
        "import matplotlib.pyplot as plt\n",
        "plt.plot(times, photon_number, label=\"Photon Population\")\n",
        "plt.plot(times, atom_excited, label=\"Excited State Population\")\n",
        "plt.xlabel(\"Time\")\n",
        "plt.ylabel(\"Population\")\n",
        "plt.legend()\n",
        "plt.show()\n"
      ],
      "metadata": {
        "id": "WU32rLdW9aCd"
      },
      "execution_count": null,
      "outputs": []
    },
    {
      "cell_type": "code",
      "source": [],
      "metadata": {
        "id": "nootkXTx-4om"
      },
      "execution_count": null,
      "outputs": []
    }
  ]
}
