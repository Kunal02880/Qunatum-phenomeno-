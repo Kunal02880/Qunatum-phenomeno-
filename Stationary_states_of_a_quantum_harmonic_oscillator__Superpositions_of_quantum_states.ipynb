{
  "nbformat": 4,
  "nbformat_minor": 0,
  "metadata": {
    "colab": {
      "private_outputs": true,
      "provenance": [],
      "authorship_tag": "ABX9TyOkOm41KCd+eQuB+XlA5XHr",
      "include_colab_link": true
    },
    "kernelspec": {
      "name": "python3",
      "display_name": "Python 3"
    },
    "language_info": {
      "name": "python"
    }
  },
  "cells": [
    {
      "cell_type": "markdown",
      "metadata": {
        "id": "view-in-github",
        "colab_type": "text"
      },
      "source": [
        "<a href=\"https://colab.research.google.com/github/Kunal02880/Qunatum-phenomeno-/blob/main/Stationary_states_of_a_quantum_harmonic_oscillator__Superpositions_of_quantum_states.ipynb\" target=\"_parent\"><img src=\"https://colab.research.google.com/assets/colab-badge.svg\" alt=\"Open In Colab\"/></a>"
      ]
    },
    {
      "cell_type": "code",
      "execution_count": null,
      "metadata": {
        "id": "LzO_Yv9S38lv"
      },
      "outputs": [],
      "source": [
        "!pip install qutip\n",
        "import numpy as np\n",
        "import scipy as sp\n",
        "import matplotlib.pyplot as plt\n",
        "from qutip import *\n",
        "from ipywidgets import interact\n"
      ]
    },
    {
      "cell_type": "code",
      "source": [
        "m = 1.       #mass of particle\n",
        "hbar = 1     #plack constant\n",
        "omega = 1    #rabi frequecey\n",
        "hbar_omega = hbar * omega\n",
        "sigma = hbar / (m * omega)\n",
        "dimstates = 5.             #number of quantum states consider\n",
        "a = destroy(dimstates)     #annilation\n",
        "adag = a.conj().trans()    # creation\n",
        "H = hbar_omega * (adag * a + 0.5) #hamiltioan\n"
      ],
      "metadata": {
        "id": "I9cGs3Zz4El1"
      },
      "execution_count": null,
      "outputs": []
    },
    {
      "cell_type": "code",
      "source": [
        "def normalize_wavefunction(psi_in):                                 # normailation function\n",
        "    psi_unnormalized_squared = np.multiply(np.conj(psi_in), psi_in)\n",
        "    norm = np.sum(psi_unnormalized_squared)                         #computes sum of wavefuntions\n",
        "    psi = psi_in / np.sqrt(norm)                                    #\n",
        "    return psi, norm\n"
      ],
      "metadata": {
        "id": "t01aC7Qq4Hxm"
      },
      "execution_count": null,
      "outputs": []
    },
    {
      "cell_type": "code",
      "source": [
        "def harmonic_oscillator_wavefunction(x, n, sigma):  #normalized wavefunction and it's probability density\n",
        "    hermite_polynomial = sp.special.hermite(n)      #computes n dim hermite polynomial\n",
        "    hp_val = hermite_polynomial(x / sigma)\n",
        "    psi_unnormalized = hp_val * np.exp(-0.5 * (x / sigma) ** 2)\n",
        "    psi, norm = normalize_wavefunction(psi_unnormalized)     # make intergration =1\n",
        "    prob = np.multiply(np.conj(psi), psi)\n",
        "    return psi, prob\n"
      ],
      "metadata": {
        "id": "GfB37U-W4gTZ"
      },
      "execution_count": null,
      "outputs": []
    },
    {
      "cell_type": "code",
      "source": [
        "def generating_superposition(wavefunction_set, coeff):\n",
        "    dimstates = wavefunction_set.shape[0]\n",
        "    psi = 0 * x\n",
        "    for n in range(dimstates):\n",
        "        psi = psi + coeff[n] * wavefunction_set[n, :]\n",
        "    psi = np.squeeze(psi)\n",
        "    return psi\n"
      ],
      "metadata": {
        "id": "T9fpiAqJ4iBO"
      },
      "execution_count": null,
      "outputs": []
    },
    {
      "cell_type": "code",
      "source": [
        "xinterval = 10\n",
        "dimx = 256\n",
        "x = np.linspace(-xinterval, xinterval, dimx)\n",
        "psi0, prob0 = harmonic_oscillator_wavefunction(x, 0, sigma)\n",
        "psi1, prob1 = harmonic_oscillator_wavefunction(x, 1, sigma)\n",
        "psi2, prob2 = harmonic_oscillator_wavefunction(x, 2, sigma)\n",
        "psi20, prob20 = harmonic_oscillator_wavefunction(x, 20, sigma)\n"
      ],
      "metadata": {
        "id": "6sR591FZ4k7j"
      },
      "execution_count": null,
      "outputs": []
    },
    {
      "cell_type": "code",
      "source": [
        "fig, ax = plt.subplots()\n",
        "ax.plot(x, psi0)\n",
        "ax.plot(x, psi1)\n",
        "ax.plot(x, psi2)\n",
        "ax.set_xlabel('space (arb. units)')\n",
        "ax.set_ylabel('wave function')\n",
        "ax.legend((\"n = 0\", \"n = 1\", \"n = 2\"))\n"
      ],
      "metadata": {
        "id": "lxScMt1s4nWo"
      },
      "execution_count": null,
      "outputs": []
    },
    {
      "cell_type": "code",
      "source": [
        "fig, ax = plt.subplots()\n",
        "ax.plot(x, prob0)\n",
        "ax.plot(x, prob1)\n",
        "ax.plot(x, prob2)\n",
        "ax.plot(x, prob20);\n",
        "ax.set_xlabel('space (arb. units)')\n",
        "ax.set_ylabel('probability')\n",
        "ax.legend((\"n = 0\", \"n = 1\", \"n = 2\"))\n"
      ],
      "metadata": {
        "id": "V_h0IqZ34pnm"
      },
      "execution_count": null,
      "outputs": []
    },
    {
      "cell_type": "markdown",
      "source": [
        "Time evolution"
      ],
      "metadata": {
        "id": "PUAV0X_K4yD_"
      }
    },
    {
      "cell_type": "code",
      "source": [
        "# Number of states to be considered\n",
        "dimstates = 20\n",
        "# generating collection of all eigenfunctions\n",
        "wavefunction_set = np.zeros([dimstates, dimx])\n",
        "for n in range(dimstates):\n",
        "    psi, prob = harmonic_oscillator_wavefunction(x,n,sigma)\n",
        "    wavefunction_set[n,:]=psi\n",
        "\n",
        "# calculating projection of the coherent state on the eigenbasis of the\n",
        "# harmonic oscillator\n",
        "ch_vet = coherent(dimstates, 2)\n",
        "\n",
        "# generating the superposition of eingefunctions\n",
        "psi_ch = generating_superposition(wavefunction_set, ch_vet)\n",
        "\n",
        "# calculating probability density function\n",
        "prob_ch = np.real(np.multiply(np.conj(psi_ch),psi_ch))\n",
        "\n",
        "fig, ax = plt.subplots()\n",
        "ax.plot(x, prob0);\n",
        "ax.plot(x, prob_ch);\n",
        "ax.set_xlabel('space (arb. units)');\n",
        "ax.set_ylabel('probability');\n",
        "ax.legend((\"n = 0\", \"ch, 2\"));\n",
        "\n",
        "fig, ax = plt.subplots()\n",
        "ax.plot(x, psi0);\n",
        "ax.plot(x, psi_ch);\n",
        "ax.set_xlabel('space (arb. units)');\n",
        "ax.set_ylabel('probability');\n",
        "ax.legend((\"n = 0\", \"ch, 2\"));\n",
        "\n",
        "#ch_vet = coherent(dimstates, 2)\n",
        "\n"
      ],
      "metadata": {
        "id": "vMwhQlLP4txs"
      },
      "execution_count": null,
      "outputs": []
    },
    {
      "cell_type": "code",
      "source": [],
      "metadata": {
        "id": "xeyB7ujM5GpM"
      },
      "execution_count": null,
      "outputs": []
    }
  ]
}