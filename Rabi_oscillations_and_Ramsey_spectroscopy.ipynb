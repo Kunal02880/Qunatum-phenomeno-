{
  "nbformat": 4,
  "nbformat_minor": 0,
  "metadata": {
    "colab": {
      "private_outputs": true,
      "provenance": [],
      "authorship_tag": "ABX9TyMQfr5JHt5QKRLf189w5BHo",
      "include_colab_link": true
    },
    "kernelspec": {
      "name": "python3",
      "display_name": "Python 3"
    },
    "language_info": {
      "name": "python"
    }
  },
  "cells": [
    {
      "cell_type": "markdown",
      "metadata": {
        "id": "view-in-github",
        "colab_type": "text"
      },
      "source": [
        "<a href=\"https://colab.research.google.com/github/Kunal02880/Qunatum-phenomeno-/blob/main/Rabi_oscillations_and_Ramsey_spectroscopy.ipynb\" target=\"_parent\"><img src=\"https://colab.research.google.com/assets/colab-badge.svg\" alt=\"Open In Colab\"/></a>"
      ]
    },
    {
      "cell_type": "code",
      "execution_count": null,
      "metadata": {
        "id": "UN4WqvbVlqvz"
      },
      "outputs": [],
      "source": [
        "!pip install qutip\n",
        "import numpy as np\n",
        "import matplotlib.pyplot as plt\n",
        "from qutip import *"
      ]
    },
    {
      "cell_type": "code",
      "source": [
        "\n",
        "\n",
        "def Ham(omega,delta):\n",
        "  Hint = Qobj([[0,omega],[omega,0]])\n",
        "  H0 = Qobj([[delta,0],[0,delta]])\n",
        "  return Hint+H0\n",
        "def Ham_t(t,**kwargs):\n",
        "  omega = kwargs[\"omega\"]\n",
        "  delta = kwargs[\"delta\"]\n",
        "  Hint = Qobj([[0,omega],[omega,0]])\n",
        "  H0 = Qobj([[delta,0],[0,delta]])\n",
        "  if t<75:\n",
        "    Hret = Hint+H0\n",
        "  else:\n",
        "    Hret =  H0\n",
        "  return Hret\n",
        "\n",
        "omega = 1\n",
        "argmap = {\"omega\":omega,\"delta\":0.0}\n",
        "\n",
        "t = np.linspace(0,100,100)\n",
        "pulse = t*0\n",
        "ind = np.where(t<75)\n",
        "pulse[ind[0]] = 1\n",
        "\n",
        "\n",
        "rh0 = basis(2,0)*basis(2,0).dag()\n",
        "rh1 = basis(2,1)*basis(2,1).dag()\n",
        "e_ops = [sigmax(),sigmaz(),sigmay(),rh0,rh1]\n",
        "options = Options(store_states=True)\n",
        "results = mesolve(Ham_t,fock(2,0),t,e_ops, args = argmap) # Assuming mesolve is defined elsewhere\n",
        "fig, ax = plt.subplots()\n",
        "ax.plot(t,results.expect[3]);\n",
        "ax.plot(t,results.expect[4]);\n",
        "ax.plot(t,pulse);\n",
        "ax.set_xlabel('time');\n",
        "ax.set_ylabel('expectation value rho0');\n",
        "ax.legend((\"rho0\", \"rho1\", \"pulse\"))\n",
        "\n",
        "ax.plot(t,results.expect[4]);\n",
        "ax.plot(t,pulse);\n",
        "ax.set_xlabel('time');\n",
        "ax.set_ylabel('expectation value rho0');\n",
        "ax.legend((\"rho0\", \"rho1\", \"pulse\"))\n",
        "\n"
      ],
      "metadata": {
        "id": "p4XoUA2yl8_f"
      },
      "execution_count": null,
      "outputs": []
    },
    {
      "cell_type": "code",
      "source": [],
      "metadata": {
        "id": "TYzOHqkFOwGu"
      },
      "execution_count": null,
      "outputs": []
    },
    {
      "cell_type": "code",
      "execution_count": null,
      "metadata": {
        "id": "ow6Kj0mqGqJt"
      },
      "outputs": [],
      "source": [
        "def Ham(Delta, Omega):\n",
        "    # laser interaction\n",
        "    Hint = Qobj([[0, Omega], [Omega, 0]] )\n",
        "    # laser detuning\n",
        "    H0 = Qobj([[Delta, 0], [0, 0]] )\n",
        "    return H0+Hint"
      ]
    },
    {
      "cell_type": "code",
      "execution_count": null,
      "metadata": {
        "id": "yoKrxVvsGqJt"
      },
      "outputs": [],
      "source": [
        "def Ham_t(t, args):\n",
        "    Omega = args['Omega']\n",
        "    Delta = args['Delta']\n",
        "    # laser interaction\n",
        "    Hint = Qobj([[0, Omega], [Omega, 0]] )\n",
        "    # laser detuning\n",
        "    H0 = Qobj([[Delta, 0], [0, 0]] )\n",
        "\n",
        "    if(t<75):\n",
        "        Hret = H0+Hint\n",
        "    else:\n",
        "        Hret = H0\n",
        "\n",
        "\n",
        "    return Hret\n"
      ]
    },
    {
      "cell_type": "code",
      "source": [],
      "metadata": {
        "id": "XEBdmWPSrPuY"
      },
      "execution_count": null,
      "outputs": []
    },
    {
      "cell_type": "code",
      "execution_count": null,
      "metadata": {
        "id": "epKTCoCaGqJt"
      },
      "outputs": [],
      "source": [
        "# Test of time dependent Hamiltonian\n",
        "\n",
        "Omega = 0.01\n",
        "argmap = {'Omega': Omega, 'Delta': 0.0}\n",
        "\n",
        "rho0 = fock_dm(2,0)\n",
        "rho1 = fock_dm(2,1)\n",
        "\n",
        "# time to simulate\n",
        "t = np.linspace(0, 100, 100)\n",
        "pulse = 0*t\n",
        "ind = np.where(t<75)\n",
        "pulse[ind[0]] = 1\n",
        "\n",
        "\n",
        "# operators we would like to know the expectation value\n",
        "e_ops = [sigmax(), sigmay(), sigmaz(), rho0, rho1]\n",
        "\n",
        "# Shroedinger Equation solver\n",
        "results = sesolve(Ham_t, fock(2,0), t, e_ops, args = argmap)\n",
        "\n",
        "fig, ax = plt.subplots()\n",
        "ax.plot(t,results.expect[3]);\n",
        "ax.plot(t,results.expect[4]);\n",
        "ax.plot(t,pulse);\n",
        "ax.set_xlabel('time');\n",
        "ax.set_ylabel('expectation value rho0');\n",
        "ax.legend((\"rho0\", \"rho1\", \"pulse\"))\n",
        "\n",
        "# Showing on the Bloch sphere\n",
        "b = Bloch()\n",
        "pnt = [results.expect[0],results.expect[1],results.expect[2]]\n",
        "b.add_points(pnt)\n",
        "b.show()"
      ]
    },
    {
      "cell_type": "code",
      "source": [],
      "metadata": {
        "id": "WTEf-IPErU3b"
      },
      "execution_count": null,
      "outputs": []
    },
    {
      "cell_type": "code",
      "execution_count": null,
      "metadata": {
        "id": "4d8Kx1QtGqJu"
      },
      "outputs": [],
      "source": [
        "# Rabi frequency\n",
        "Omega = 0.01\n",
        "# interval for spectroscopy\n",
        "Delta_interval = 0.2\n",
        "# number of scan points\n",
        "dimdelta = 30\n",
        "# Detunings vector\n",
        "Deltavet = np.linspace(-Delta_interval, +Delta_interval, dimdelta)\n",
        "# excited state population\n",
        "excited_state_p = 0*Deltavet\n",
        "\n",
        "for n in range(dimdelta):\n",
        "    # Setting each detuning different at each iteration\n",
        "    argmap = {'Omega': Omega, 'Delta': Deltavet[n]}\n",
        "    # Shroedinger Equation solver\n",
        "    results = sesolve(Ham_t, fock(2,0), t, [rho1], args = argmap)\n",
        "    # Grabbing excited state population\n",
        "    excited_state_p[n] = results.expect[0][-1]\n",
        "    print(n)\n",
        "\n"
      ]
    },
    {
      "cell_type": "code",
      "source": [],
      "metadata": {
        "id": "vCGZ--GDriHs"
      },
      "execution_count": null,
      "outputs": []
    },
    {
      "cell_type": "code",
      "execution_count": null,
      "metadata": {
        "id": "BwcsfjO1GqJu"
      },
      "outputs": [],
      "source": [
        "fig, ax = plt.subplots()\n",
        "ax.plot(Deltavet,excited_state_p);\n",
        "ax.set_xlabel('detuning');\n",
        "ax.set_ylabel('expectation value rho1');\n",
        "ax.legend((\"rho01\"))"
      ]
    },
    {
      "cell_type": "code",
      "source": [],
      "metadata": {
        "id": "cA8HqeOMrnlc"
      },
      "execution_count": null,
      "outputs": []
    },
    {
      "cell_type": "code",
      "execution_count": null,
      "metadata": {
        "id": "-jUZ64DaGqJu"
      },
      "outputs": [],
      "source": [
        "# Rabi Hamiltonian\n",
        "def Ham_t2(t, args):\n",
        "    Omega = args['Omega']\n",
        "    Delta = args['Delta']\n",
        "    pulse = args['pulse']\n",
        "    # laser interaction\n",
        "    Hint = Qobj([[0, Omega], [Omega, 0]] )\n",
        "    # laser detuning\n",
        "    H0 = Qobj([[Delta, 0], [0, 0]] )\n",
        "\n",
        "    if(t<pulse):\n",
        "        Hret = H0+Hint\n",
        "    else:\n",
        "        Hret = H0\n",
        "\n",
        "\n",
        "    return Hret"
      ]
    },
    {
      "cell_type": "code",
      "source": [],
      "metadata": {
        "id": "lG8fMaCzrrhu"
      },
      "execution_count": null,
      "outputs": []
    },
    {
      "cell_type": "code",
      "execution_count": null,
      "metadata": {
        "id": "tyhqwRNSGqJu"
      },
      "outputs": [],
      "source": [
        "# Calibration of pulses for Rabi spectroscopy.Making sure pulses are shorter than pi-pulses\n",
        "\n",
        "\n",
        "t = np.linspace(0, 200, 50)\n",
        "# Rabi frequency\n",
        "Omega = np.array([0.01, 0.005])\n",
        "# pulse lenght\n",
        "pulse_length = np.array([75, 150])\n",
        "# interval for spectroscopy\n",
        "Delta_interval = 0.2\n",
        "# number of scan points\n",
        "dimdelta = 30\n",
        "# Detunings vector\n",
        "Deltavet = np.linspace(-Delta_interval, +Delta_interval, dimdelta)\n",
        "# excited state population\n",
        "excited_state_p = 0*Deltavet\n",
        "\n",
        "print('1st pulse length = ', pulse_length[0])\n",
        "print('2nd pulse length = ', pulse_length[1])\n",
        "\n",
        "# Shroedinger Equation solver\n",
        "argmap = {'Omega': Omega[0], 'Delta': 0.0, 'pulse' : pulse_length[0]}\n",
        "results75 = sesolve(Ham_t2, fock(2,0), t, [rho1], args = argmap)\n",
        "argmap = {'Omega': Omega[1], 'Delta': 0.0, 'pulse' : pulse_length[1]}\n",
        "results150 = sesolve(Ham_t2, fock(2,0), t, [rho1], args = argmap)\n",
        "\n",
        "fig, ax = plt.subplots()\n",
        "ax.plot(t,results75.expect[0]);\n",
        "ax.plot(t,results150.expect[0]);\n",
        "ax.set_xlabel('time');\n",
        "ax.set_ylabel('expectation value rho0');\n",
        "ax.legend((\"rho1 75\", \"rho1 150\", \"pulse\"))\n",
        "\n"
      ]
    },
    {
      "cell_type": "code",
      "source": [],
      "metadata": {
        "id": "CufUCTkzsWID"
      },
      "execution_count": null,
      "outputs": []
    },
    {
      "cell_type": "code",
      "execution_count": null,
      "metadata": {
        "id": "713UBumTGqJv"
      },
      "outputs": [],
      "source": [
        "# Ramsey Hamiltonian\n",
        "def Ham_Ramsey(t, args):\n",
        "    Omega = args['Omega']\n",
        "    Delta = args['Delta']\n",
        "    pulse_length = args['pulse_length']\n",
        "    pulse_separation = args['pulse_separation']\n",
        "    # laser interaction\n",
        "    Hint = Qobj([[0, Omega], [Omega, 0]] )\n",
        "    # laser detuning\n",
        "    H0 = Qobj([[Delta, 0], [0, 0]] )\n",
        "\n",
        "    if(t<pulse_length or (pulse_separation<t and t<pulse_separation+pulse_length )):\n",
        "        Hret = H0+Hint\n",
        "    else:\n",
        "        Hret = H0\n",
        "\n",
        "\n",
        "    return Hret"
      ]
    },
    {
      "cell_type": "code",
      "source": [],
      "metadata": {
        "id": "xSKa4u2Muw_W"
      },
      "execution_count": null,
      "outputs": []
    },
    {
      "cell_type": "code",
      "execution_count": null,
      "metadata": {
        "id": "piNdAYhTGqJv"
      },
      "outputs": [],
      "source": [
        "#Rabi spectroscopy with different pulse duration\n",
        "\n",
        "Delta_interval = 0.2\n",
        "# number of scan points\n",
        "dimdelta = 50\n",
        "# Detunings vector\n",
        "Deltavet = np.linspace(-Delta_interval, +Delta_interval, dimdelta)\n",
        "\n",
        "excited_state_p = np.zeros((len(Omega), dimdelta))\n",
        "for m in range(len(Omega)):\n",
        "    for n in range(dimdelta):\n",
        "        # Setting each detuning different at each iteration\n",
        "        argmap = {'Omega': Omega[m], 'Delta': Deltavet[n], 'pulse': pulse_length[m]}\n",
        "        # Shroedinger Equation solver\n",
        "        results = sesolve(Ham_t2, fock(2,0), t, [rho1], args = argmap)\n",
        "        # Grabbing excited state population\n",
        "        excited_state_p[m,n] = results.expect[0][-1]\n",
        "        print(n)\n",
        "\n",
        "fig, ax = plt.subplots()\n",
        "ax.plot(Deltavet,excited_state_p[0,:])\n",
        "ax.plot(Deltavet,excited_state_p[1,:])\n",
        "ax.set_xlabel('detuning');\n",
        "ax.set_ylabel('expectation value rho1');\n",
        "ax.legend((\"rho1 75\", \"rho1 150\"))"
      ]
    },
    {
      "cell_type": "code",
      "source": [],
      "metadata": {
        "id": "qPx4MmNIuyfC"
      },
      "execution_count": null,
      "outputs": []
    },
    {
      "cell_type": "code",
      "execution_count": null,
      "metadata": {
        "id": "wc2L7CC6GqJv"
      },
      "outputs": [],
      "source": [
        "# How to use a curve as a probability function and extract average and standard deviation\n",
        "\n",
        "# making of the curve a probability distribution\n",
        "prob_distr = excited_state_p\n",
        "for m in range(len(Omega)):\n",
        "    # calculating normalization\n",
        "    norm = np.sum(excited_state_p[m,:])\n",
        "    # normalizing every element\n",
        "    prob_distr[m,:] = excited_state_p[m,:]/norm\n",
        "\n",
        "print('normalized 75? ', np.sum(prob_distr[0,:]))\n",
        "print('normalized 150? ', np.sum(prob_distr[1,:]))\n",
        "\n",
        "Delta_avg = 0*Omega\n",
        "Delta_avg2 = 0*Omega\n",
        "sigma = 0*Omega\n",
        "for m in range(len(Omega)):\n",
        "    # average value calculated as  avg = sum ( p(x) * x)\n",
        "    Delta_avg[m] = np.sum(np.multiply(prob_distr[m,:], Deltavet))\n",
        "    # average value of the square calculated as  avg = sum ( p(x) * x^2)\n",
        "    Delta_avg2[m] = np.sum(np.multiply(prob_distr[m,:], Deltavet**2))\n",
        "    # standard deviation considering that    variance = <x^2>-<x>^2\n",
        "    sigma = np.sqrt(Delta_avg2 - Delta_avg**2)\n",
        "    print('average', Delta_avg[m])\n",
        "    print('sigma', Delta_avg2[m])\n",
        "\n",
        "fig, ax = plt.subplots()\n",
        "ax.plot(Deltavet,prob_distr[0,:])\n",
        "ax.plot(Deltavet,prob_distr[1,:])\n",
        "ax.set_xlabel('detuning');\n",
        "ax.set_ylabel('probability');\n",
        "ax.legend((\"rho1 75\", \"rho1 150\"))"
      ]
    },
    {
      "cell_type": "code",
      "source": [],
      "metadata": {
        "id": "y79f9-6mu7bZ"
      },
      "execution_count": null,
      "outputs": []
    },
    {
      "cell_type": "code",
      "execution_count": null,
      "metadata": {
        "id": "bj5LptcHGqJv"
      },
      "outputs": [],
      "source": [
        "# Quantum trajectories with different pulses\n",
        "\n",
        "t = np.linspace(0, 200, 50)\n",
        "# Rabi frequency\n",
        "Omega = np.array([0.1, 0.005])\n",
        "# pulse lenght\n",
        "pulse_length = np.array([7.85, 150])\n",
        "# interval for spectroscopy\n",
        "Delta_interval = 0.2\n",
        "# number of scan points\n",
        "dimdelta = 30\n",
        "# Detunings vector\n",
        "Deltavet = np.linspace(-Delta_interval, +Delta_interval, dimdelta)\n",
        "# excited state population\n",
        "excited_state_p = 0*Deltavet\n",
        "\n",
        "print('1st pulse length = ', pulse_length[0])\n",
        "print('2nd pulse length = ', pulse_length[1])\n",
        "\n",
        "# Shroedinger Equation solver\n",
        "argmap = {'Omega': Omega[0], 'Delta': 0.0, 'pulse' : pulse_length[0]}\n",
        "results75 = sesolve(Ham_t2, fock(2,0), t, [rho1], args = argmap)\n",
        "argmap = {'Omega': Omega[1], 'Delta': 0.0, 'pulse' : pulse_length[1]}\n",
        "results150 = sesolve(Ham_t2, fock(2,0), t, [rho1], args = argmap)\n",
        "argmap = {'Omega': Omega[0], 'Delta': 0.0, 'pulse_length' : pulse_length[0], 'pulse_separation' : pulse_length[1]}\n",
        "resultsRamsey = sesolve(Ham_Ramsey, fock(2,0), t, [rho1], args = argmap)\n",
        "\n",
        "fig, ax = plt.subplots()\n",
        "ax.plot(t,results75.expect[0]);\n",
        "ax.plot(t,results150.expect[0]);\n",
        "ax.plot(t,resultsRamsey.expect[0]);\n",
        "ax.set_xlabel('time');\n",
        "ax.set_ylabel('expectation value rho0');\n",
        "ax.legend((\"rho1 75\", \"rho1 150\", \"Ramsey\"))\n",
        "print(results75.expect[0][-1])"
      ]
    },
    {
      "cell_type": "code",
      "source": [],
      "metadata": {
        "id": "BMTvXvcFu_x-"
      },
      "execution_count": null,
      "outputs": []
    },
    {
      "cell_type": "code",
      "execution_count": null,
      "metadata": {
        "id": "Un8ECsngGqJv"
      },
      "outputs": [],
      "source": [
        "# Travel on the Bloch sphere for detuned Ramsey scheme\n",
        "\n",
        "# Rabi frequency\n",
        "Omega_Ramsey = 0.1\n",
        "# pulse lenght\n",
        "pulse_Rabi = 150\n",
        "# calibrated pi/2-pulse\n",
        "pihalf_pulse = 7.85\n",
        "\n",
        "# time to simulate\n",
        "t = np.linspace(0, 200, 512)\n",
        "\n",
        "# operators we would like to know the expectation value\n",
        "e_ops = [sigmax(), sigmay(), sigmaz(), rho0, rho1]\n",
        "\n",
        "argmap = {'Omega': Omega_Ramsey, 'Delta': 0.02,\\\n",
        "          'pulse_length' : pihalf_pulse, 'pulse_separation' : pulse_Rabi}\n",
        "\n",
        "# Shroedinger Equation solver\n",
        "results = sesolve(Ham_Ramsey, fock(2,0), t, e_ops, args = argmap)\n",
        "\n",
        "fig, ax = plt.subplots()\n",
        "ax.plot(t,results.expect[3]);\n",
        "ax.plot(t,results.expect[4]);\n",
        "ax.set_xlabel('time');\n",
        "ax.set_ylabel('expectation value rho0');\n",
        "ax.legend((\"rho0\", \"rho1\", \"pulse\"))\n",
        "\n",
        "# Showing on the Bloch sphere\n",
        "b = Bloch()\n",
        "pnt = [results.expect[0],results.expect[1],results.expect[2]]\n",
        "b.add_points(pnt)\n",
        "b.show()\n"
      ]
    },
    {
      "cell_type": "code",
      "source": [],
      "metadata": {
        "id": "W2Y2suIEvDpn"
      },
      "execution_count": null,
      "outputs": []
    },
    {
      "cell_type": "code",
      "execution_count": null,
      "metadata": {
        "id": "khNNH9pbGqJv"
      },
      "outputs": [],
      "source": [
        "# RAbi vs RAmsey\n",
        "\n",
        "t = np.linspace(0, 100, 100)\n",
        "Delta_interval = 0.2\n",
        "# number of scan points\n",
        "dimdelta = 50\n",
        "# Detunings vector\n",
        "Deltavet = np.linspace(-Delta_interval, +Delta_interval, dimdelta)\n",
        "\n",
        "excited_state_Rabi = 0*Deltavet\n",
        "excited_state_Ramsey = 0*Deltavet\n",
        "# Rabi frequency\n",
        "Omega_Rabi = 0.005\n",
        "Omega_Ramsey = 0.1\n",
        "# pulse lenght\n",
        "pulse_Rabi = 150\n",
        "pihalf_pulse = 7.85\n",
        "#------------------------------------------------\n",
        "# RABI\n",
        "# Setting each detuning different at each iteration\n",
        "\n",
        "for n in range(dimdelta):\n",
        "    argmap = {'Omega': Omega_Rabi, 'Delta': Deltavet[n], 'pulse': pulse_Rabi}\n",
        "    # Shroedinger Equation solver\n",
        "    results = sesolve(Ham_t2, fock(2,0), t, [rho1], args = argmap)\n",
        "    # Grabbing excited state population\n",
        "    excited_state_Rabi[n] = results.expect[0][-1]\n",
        "    print(n)\n",
        "\n",
        "#------------------------------------------------\n",
        "# RAMSEY\n",
        "for n in range(dimdelta):\n",
        "    argmap = {'Omega': Omega_Ramsey, 'Delta': Deltavet[n], 'pulse_length' : pihalf_pulse, 'pulse_separation' : pulse_Rabi}\n",
        "    # Shroedinger Equation solver\n",
        "    results = sesolve(Ham_Ramsey, fock(2,0), t, [rho1], args = argmap)\n",
        "    # Grabbing excited state population\n",
        "    excited_state_Ramsey[n] = results.expect[0][-1]\n",
        "    print(n)\n",
        "\n",
        "#------------------------------------------------\n",
        "\n",
        "fig, ax = plt.subplots()\n",
        "ax.plot(Deltavet,excited_state_Rabi)\n",
        "ax.plot(Deltavet,excited_state_Ramsey)\n",
        "ax.set_xlabel('detuning');\n",
        "ax.set_ylabel('expectation value rho1');\n",
        "ax.legend((\"rho1 75\", \"rho1 150\"))"
      ]
    },
    {
      "cell_type": "code",
      "source": [],
      "metadata": {
        "id": "YUOYw9GnvNrp"
      },
      "execution_count": null,
      "outputs": []
    }
  ]
}