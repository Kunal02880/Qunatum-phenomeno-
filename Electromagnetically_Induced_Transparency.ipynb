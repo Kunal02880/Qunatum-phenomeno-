{
  "nbformat": 4,
  "nbformat_minor": 0,
  "metadata": {
    "colab": {
      "private_outputs": true,
      "provenance": [],
      "authorship_tag": "ABX9TyOGqQEAzRIWQ87nUuD2OKW4",
      "include_colab_link": true
    },
    "kernelspec": {
      "name": "python3",
      "display_name": "Python 3"
    },
    "language_info": {
      "name": "python"
    }
  },
  "cells": [
    {
      "cell_type": "markdown",
      "metadata": {
        "id": "view-in-github",
        "colab_type": "text"
      },
      "source": [
        "<a href=\"https://colab.research.google.com/github/Kunal02880/Qunatum-phenomeno-/blob/main/Electromagnetically_Induced_Transparency.ipynb\" target=\"_parent\"><img src=\"https://colab.research.google.com/assets/colab-badge.svg\" alt=\"Open In Colab\"/></a>"
      ]
    },
    {
      "cell_type": "code",
      "execution_count": null,
      "metadata": {
        "id": "gr_iqdJtGnx9"
      },
      "outputs": [],
      "source": []
    },
    {
      "cell_type": "code",
      "execution_count": null,
      "metadata": {
        "id": "RhcEX6khlGpn"
      },
      "outputs": [],
      "source": [
        "!pip install qutip\n",
        "import numpy as np\n",
        "import scipy as sp\n",
        "import matplotlib.pyplot as plt\n",
        "from qutip import *"
      ]
    },
    {
      "cell_type": "code",
      "source": [],
      "metadata": {
        "id": "4Ew-9SGGHHjp"
      },
      "execution_count": null,
      "outputs": []
    },
    {
      "cell_type": "code",
      "execution_count": null,
      "metadata": {
        "id": "DerfqNwwlGpq"
      },
      "outputs": [],
      "source": [
        "\n",
        "def Hamil(Delta01, Delta12, Omega01, Omega12):\n",
        "    #--------------------------\n",
        "    # Detunings\n",
        "    H0_mat = [[Delta01, 0, 0],[0, 0, 0],[0,0,Delta12]]\n",
        "    H0 = Qobj(np.array(H0_mat))\n",
        "    #--------------------------\n",
        "    # Interaction laser 0 <-> 1\n",
        "    Hint01_mat = [[0, 0.5*Omega01, 0],[0.5*Omega01, 0, 0],[0,0,0]]\n",
        "    Hint01 = Qobj(np.array(Hint01_mat))\n",
        "    #--------------------------\n",
        "    # Interaction laser 1 <-> 2\n",
        "    Hint12_mat = [[0, 0, 0],[0, 0, 0.5*Omega12],[0,0.5*Omega12,0]]\n",
        "    Hint12 = Qobj(np.array(Hint12_mat))\n",
        "    # return the full Hamiltonian of the system\n",
        "    return H0+Hint01+Hint12\n",
        "\n",
        "Delta01 = 1\n",
        "Delta12 = 2\n",
        "Omega01 = 3\n",
        "Omega12 = 4\n",
        "print(Hamil(Delta01, Delta12, Omega01, Omega12))\n",
        "\n",
        "\n"
      ]
    },
    {
      "cell_type": "code",
      "source": [],
      "metadata": {
        "id": "b9rVwdTMHWAt"
      },
      "execution_count": null,
      "outputs": []
    },
    {
      "cell_type": "code",
      "execution_count": null,
      "metadata": {
        "id": "SZdsOCcylGpr"
      },
      "outputs": [],
      "source": [
        "def SE_collapse(Gamma10, Gamma12):\n",
        "    c10_mat = [[0, Gamma10, 0],[0, 0, 0],[0,0,0]]\n",
        "    c10 = Qobj(np.array(c10_mat))\n",
        "    c12_mat = [[0, 0, 0],[0, 0, 0],[0,Gamma12,0]]\n",
        "    c12 = Qobj(np.array(c12_mat))\n",
        "    return [c10, c12]\n",
        "\n",
        "Gamma10 = 1.2\n",
        "Gamma12 = 2\n",
        "\n",
        "[c10, c12] = SE_collapse(Gamma10, Gamma12)\n",
        "\n",
        "print(c10)\n",
        "print(c12)\n"
      ]
    },
    {
      "cell_type": "code",
      "source": [],
      "metadata": {
        "id": "vyThs96BHbZ_"
      },
      "execution_count": null,
      "outputs": []
    },
    {
      "cell_type": "code",
      "execution_count": null,
      "metadata": {
        "id": "aW3-VMdzlGpr"
      },
      "outputs": [],
      "source": [
        "# Initial condition\n",
        "psi0_vet = np.array([1,0,0])\n",
        "psi0_shanku = Qobj(psi0_vet)\n",
        "psi0 = fock(3,0)\n",
        "rho0 = fock_dm(3,0)\n",
        "rho0_shanku = psi0_shanku*psi0_shanku.dag()\n",
        "\n",
        "print(rho0)\n",
        "print(psi0)\n",
        "print(psi0_shanku)\n",
        "print(rho0_shanku)\n",
        "\n",
        "# Projector\n",
        "rho1 = fock_dm(3,1)\n",
        "print(rho1)"
      ]
    },
    {
      "cell_type": "code",
      "source": [],
      "metadata": {
        "id": "3VWhpm8jHfrL"
      },
      "execution_count": null,
      "outputs": []
    },
    {
      "cell_type": "code",
      "execution_count": null,
      "metadata": {
        "id": "udHRMyRPlGpr"
      },
      "outputs": [],
      "source": [
        "\n",
        "Gamma10 = 0.1\n",
        "Gamma12 = 0.2\n",
        "Delta01 = 0\n",
        "Delta12 = 0.1\n",
        "Omega01 = 0.1\n",
        "Omega12 = 0.05\n",
        "dimt = 100\n",
        "t = np.linspace(0,500,dimt)\n",
        "#results = mesolve(Hamil(Delta01, Delta12, Omega01, Omega12), \\ #Hamiltonian\n",
        "#                  psi0, \\# Initial condition\n",
        "#                  t, \\ #times of evolution\n",
        "#                  SE_collapse(Gamma10, Gamma12), \\ # collapse operators\n",
        "#                  e_ops=rho1) # projection\n",
        "\n",
        "results = mesolve(Hamil(Delta01, Delta12, Omega01, Omega12), \\\n",
        "                  psi0, \\\n",
        "                  t, \\\n",
        "                  SE_collapse(Gamma10, Gamma12), \\\n",
        "                  e_ops=rho1)\n",
        "\n",
        "\n",
        "fig, ax = plt.subplots()\n",
        "ax.plot(t,results.expect[0]);\n",
        "ax.set_xlabel('time');\n",
        "ax.set_ylabel('expectation value');\n",
        "ax.legend((\"rho1\"))"
      ]
    },
    {
      "cell_type": "code",
      "source": [],
      "metadata": {
        "id": "ZRGmkgf3HjLB"
      },
      "execution_count": null,
      "outputs": []
    },
    {
      "cell_type": "code",
      "execution_count": null,
      "metadata": {
        "id": "o4JWV37QlGpr"
      },
      "outputs": [],
      "source": [
        "Gamma10 = 0.5\n",
        "Gamma12 = 0.3\n",
        "\n",
        "Omega01 = 0.002\n",
        "Omega12 = 0.05\n",
        "dimt = 100\n",
        "t = np.linspace(0,500,dimt)\n",
        "\n",
        "Delta12 = 0.1\n",
        "\n",
        "dim_D01 = 201\n",
        "Delta01 = np.linspace(-1,1,dim_D01)\n",
        "rho11_last_12on = 0*Delta01\n",
        "rho11_last_12off = 0*Delta01\n",
        "for n in range(dim_D01):\n",
        "    results = mesolve(Hamil(Delta01[n], Delta12, Omega01, Omega12), \\\n",
        "                  psi0, \\\n",
        "                  t, \\\n",
        "                  SE_collapse(Gamma10, Gamma12), \\\n",
        "                  e_ops=rho1)\n",
        "    rho11_last_12on[n] = results.expect[0][-1]\n",
        "    resultsoff = mesolve(Hamil(Delta01[n], 0, Omega01, 0), \\\n",
        "                  psi0, \\\n",
        "                  t, \\\n",
        "                  SE_collapse(Gamma10, Gamma12), \\\n",
        "                  e_ops=rho1)\n",
        "    rho11_last_12off[n] = resultsoff.expect[0][-1]\n",
        "\n",
        "fig, ax = plt.subplots()\n",
        "ax.plot(Delta01,rho11_last_12on/np.max(rho11_last_12on));\n",
        "ax.plot(Delta01,rho11_last_12off/np.max(rho11_last_12off));\n",
        "ax.set_xlabel('Detuning 01');\n",
        "ax.set_ylabel('expectation value');\n",
        "ax.legend((\"12 on\", \"12_off\"))"
      ]
    },
    {
      "cell_type": "code",
      "execution_count": null,
      "metadata": {
        "id": "9HvB29hflGpr"
      },
      "outputs": [],
      "source": [
        "Gamma10 = 0.5\n",
        "Gamma12 = 0.3\n",
        "\n",
        "Omega01 = 0.002\n",
        "Omega12 = 0.05\n",
        "dimt = 100\n",
        "t = np.linspace(0,500,dimt)\n",
        "\n",
        "Delta12 = 0.1\n",
        "\n",
        "dim_D01 = 301\n",
        "Delta01 = np.linspace(-1,1,dim_D01)\n",
        "dim_D12 = 5\n",
        "Delta12 = np.linspace(-0.25,0.25,dim_D12)\n",
        "rho11_last_12on = 0*Delta01\n",
        "rho11_last_12off = 0*Delta01\n",
        "\n",
        "labels = []\n",
        "fig, ax = plt.subplots()\n",
        "for n12 in range(dim_D12):\n",
        "    for n in range(dim_D01):\n",
        "        results = mesolve(Hamil(Delta01[n], Delta12[n12], Omega01, Omega12), \\\n",
        "                      psi0, \\\n",
        "                      t, \\\n",
        "                      SE_collapse(Gamma10, Gamma12), \\\n",
        "                      e_ops=rho1)\n",
        "        rho11_last_12on[n] = results.expect[0][-1]\n",
        "\n",
        "    ax.plot(Delta01,rho11_last_12on/np.max(rho11_last_12on));\n",
        "    labels.append(\"Delta12 = \"+str(Delta12[n12]))\n",
        "\n",
        "\n",
        "ax.set_xlabel('Detuning 01');\n",
        "ax.set_ylabel('expectation value');\n",
        "ax.legend(labels)"
      ]
    },
    {
      "cell_type": "code",
      "source": [],
      "metadata": {
        "id": "PrAW74WaIIM7"
      },
      "execution_count": null,
      "outputs": []
    }
  ]
}