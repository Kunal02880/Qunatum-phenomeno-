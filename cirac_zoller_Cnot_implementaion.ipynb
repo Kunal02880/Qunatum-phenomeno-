{
  "nbformat": 4,
  "nbformat_minor": 0,
  "metadata": {
    "colab": {
      "private_outputs": true,
      "provenance": [],
      "authorship_tag": "ABX9TyNHfAr2JDAmiVBYeUeTWYGP",
      "include_colab_link": true
    },
    "kernelspec": {
      "name": "python3",
      "display_name": "Python 3"
    },
    "language_info": {
      "name": "python"
    }
  },
  "cells": [
    {
      "cell_type": "markdown",
      "metadata": {
        "id": "view-in-github",
        "colab_type": "text"
      },
      "source": [
        "<a href=\"https://colab.research.google.com/github/Kunal02880/Qunatum-phenomeno-/blob/main/cirac_zoller_Cnot_implementaion.ipynb\" target=\"_parent\"><img src=\"https://colab.research.google.com/assets/colab-badge.svg\" alt=\"Open In Colab\"/></a>"
      ]
    },
    {
      "cell_type": "code",
      "execution_count": null,
      "metadata": {
        "id": "CByI5Zv8ss9L"
      },
      "outputs": [],
      "source": []
    },
    {
      "cell_type": "code",
      "source": [
        "!pip install qutip\n",
        "import numpy as np\n",
        "import matplotlib.pyplot as plt\n",
        "from qutip import *\n",
        "\n",
        "# Parameters\n",
        "#eta = 0.05  # Lamb-Dicke parameter\n",
        "hbar = 1.0  # Reduced Planck's constant\n",
        "Omega = 2 * np.pi * 1.0  # Rabi frequency\n",
        "N = 2  # Truncation for motional states (n=0, n=1)\n",
        "\n",
        "# Basis states\n",
        "g = basis(2, 0)  # |g⟩ = |0⟩\n",
        "e = basis(2, 1)  # |e⟩ = |1⟩\n",
        "zero = basis(N, 0)  # Motional ground state |n=0⟩\n",
        "\n",
        "# Operators\n",
        "sigma_p = sigmap()  # Raising operator\n",
        "sigma_m = sigmam()  # Lowering operator\n",
        "a = destroy(N)  # Motional annihilation operator\n",
        "adag = create(N)  # Motional creation operator\n",
        "\n",
        "# Control qubit operators\n",
        "sigma_p_control = tensor(sigma_p, qeye(2), qeye(N))\n",
        "sigma_m_control = tensor(sigma_m, qeye(2), qeye(N))\n",
        "\n",
        "# Target qubit operators\n",
        "sigma_p_target = tensor(qeye(2), sigma_p, qeye(N))\n",
        "sigma_m_target = tensor(qeye(2), sigma_m, qeye(N))\n",
        "\n",
        "# Motional operators\n",
        "a_op = tensor(qeye(2), qeye(2), a)\n",
        "adag_op = tensor(qeye(2), qeye(2), adag)\n",
        "\n",
        "# Hamiltonians\n",
        "H_sideband_control = 0.5 * Omega * (sigma_p_control * a_op + sigma_m_control * adag_op)\n",
        "H_carrier_target = Omega / 2 * (sigma_p_target + sigma_m_target)\n",
        "\n",
        "# Input states\n",
        "input_states = {\n",
        "    \"00\": tensor(g, g, zero),\n",
        "    \"01\": tensor(g, e, zero),\n",
        "    \"10\": tensor(e, g, zero),\n",
        "    \"11\": tensor(e, e, zero),\n",
        "}\n",
        "\n",
        "# Define computational basis for measurement\n",
        "basis_states = [\n",
        "    tensor(g, g, zero),  # |00⟩\n",
        "    tensor(g, e, zero),  # |01⟩\n",
        "    tensor(e, g, zero),  # |10⟩\n",
        "    tensor(e, e, zero),  # |11⟩\n",
        "]\n",
        "\n",
        "# Function to calculate probabilities\n",
        "def calculate_probabilities(psi_final):\n",
        "    probs = []\n",
        "    for state in basis_states:\n",
        "        proj = state * state.dag()\n",
        "        prob = (psi_final.dag() * proj * psi_final)\n",
        "        probs.append(prob)\n",
        "       # prob = (psi_final.dag() * proj * psi_final).full().item()\n",
        "       # probs.append(prob)\n",
        "    return probs\n",
        "\n",
        "# Results storage\n",
        "results = {}\n",
        "\n",
        "# Apply CNOT gate for each input\n",
        "for label, psi0 in input_states.items():\n",
        "    # Step 1: Sideband transition on control qubit\n",
        "    t_pi = np.pi / Omega\n",
        "    U_sideband_control = (-1j * H_sideband_control * t_pi / hbar).expm()\n",
        "    psi_after_step1 = U_sideband_control * psi0\n",
        "\n",
        "    # Step 2: Carrier transition on target qubit\n",
        "    U_carrier_target = (-1j * H_carrier_target * t_pi / hbar).expm()\n",
        "    psi_after_step2 = U_carrier_target * psi_after_step1\n",
        "\n",
        "    # Step 3: Reverse sideband transition on control qubit\n",
        "    psi_final = U_sideband_control * psi_after_step2\n",
        "\n",
        "    # Calculate probabilities\n",
        "    probs = calculate_probabilities(psi_final)\n",
        "    results[label] = probs\n",
        "\n",
        "# Plot the results\n",
        "input_labels = list(results.keys())\n",
        "output_labels = [\"|00⟩\", \"|01⟩\", \"|10⟩\", \"|11⟩\"]\n",
        "\n",
        "fig, ax = plt.subplots(figsize=(10, 6))\n",
        "width = 0.2  # Bar width\n",
        "x = np.arange(len(input_labels))\n",
        "\n",
        "for i, output_label in enumerate(output_labels):\n",
        "    probs = [results[input_label][i] for input_label in input_labels]\n",
        "    ax.bar(x + i * width, probs, width, label=output_label)\n",
        "\n",
        "ax.set_xticks(x + 1.5 * width)\n",
        "ax.set_xticklabels(input_labels)\n",
        "ax.set_xlabel(\"Input State\")\n",
        "ax.set_ylabel(\"Probability\")\n",
        "ax.set_title(\"CNOT Gate: Input vs Output Probabilities\")\n",
        "ax.legend(title=\"Output States\")\n",
        "plt.show()"
      ],
      "metadata": {
        "id": "2Td18bV8oFEN"
      },
      "execution_count": null,
      "outputs": []
    },
    {
      "cell_type": "code",
      "source": [],
      "metadata": {
        "id": "ORl3FisptCFS"
      },
      "execution_count": null,
      "outputs": []
    }
  ]
}